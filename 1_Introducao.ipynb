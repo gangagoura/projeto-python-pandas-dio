In [ ]:
print("Olá Mundo")
Olá Mundo
In [ ]:
print("Estou aprendendo Python")
Estou aprendendo Python
In [ ]:
"Estou aprendendo Python"
Out[ ]:
'Estou aprendendo Python'
In [ ]:
1 + 1
Out[ ]:
2
In [ ]:
10 - 2
Out[ ]:
8
In [ ]:
#Esse é um comentário em Python
In [ ]:
2 * 2
Out[ ]:
4
In [ ]:
10/2
Out[ ]:
5.0
In [ ]:
a = 4
b = 6
In [ ]:
a + b
Out[ ]:
10
In [ ]:
frase = "Python para análise de dados"
In [ ]:
frase[0]
Out[ ]:
'P'
In [ ]:
frase[0:10]
Out[ ]:
'Python par'
In [ ]:
frase[10:]
Out[ ]:
'a análise de dados'
In [ ]:
frase[:17]
Out[ ]:
'Python para análi'
In [ ]:
frase.count("dados")
Out[ ]:
1
In [ ]:
frase.lower()
Out[ ]:
'python para análise de dados'
In [ ]:
frase = frase.upper()
In [ ]:
frase.replace("Python","Frases")
Out[ ]:
'PYTHON PARA ANÁLISE DE DADOS'
In [ ]:
frase
Out[ ]:
'PYTHON PARA ANÁLISE DE DADOS'
In [ ]:
